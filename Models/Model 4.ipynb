{
  "cells": [
    {
      "cell_type": "markdown",
      "metadata": {
        "id": "SFxg3FpdfRtZ"
      },
      "source": [
        "### Importing the Libraries"
      ]
    },
    {
      "cell_type": "code",
      "execution_count": 1,
      "metadata": {
        "id": "wBSXFKP3fRtd"
      },
      "outputs": [],
      "source": [
        "import tensorflow as tf\n",
        "from keras.preprocessing.image import ImageDataGenerator\n",
        "import os\n",
        "os.environ[\"CUDA_VISIBLE_DEVICES\"] = \"1\""
      ]
    },
    {
      "cell_type": "code",
      "execution_count": 2,
      "metadata": {
        "colab": {
          "base_uri": "https://localhost:8080/",
          "height": 35
        },
        "id": "QV1_HcP0fRte",
        "outputId": "edcf0928-61e4-4200-b244-0537f92689bd"
      },
      "outputs": [
        {
          "output_type": "execute_result",
          "data": {
            "text/plain": [
              "'2.12.0'"
            ],
            "application/vnd.google.colaboratory.intrinsic+json": {
              "type": "string"
            }
          },
          "metadata": {},
          "execution_count": 2
        }
      ],
      "source": [
        "tf.__version__ "
      ]
    },
    {
      "cell_type": "markdown",
      "metadata": {
        "id": "YfvI2tQ5fRtf"
      },
      "source": [
        "### Part 1 - Data Preprocessing"
      ]
    },
    {
      "cell_type": "markdown",
      "metadata": {
        "id": "YRszar_7fRtf"
      },
      "source": [
        "#### Generating images for the Training set"
      ]
    },
    {
      "cell_type": "code",
      "execution_count": 3,
      "metadata": {
        "id": "kvKUlXzJfRtf"
      },
      "outputs": [],
      "source": [
        "train_datagen = ImageDataGenerator(rescale = 1./255,\n",
        "                                   shear_range = 0.2,\n",
        "                                   zoom_range = 0.2,\n",
        "                                   horizontal_flip = True)"
      ]
    },
    {
      "cell_type": "markdown",
      "metadata": {
        "id": "SWGS9nU5fRtg"
      },
      "source": [
        "#### Generating images for the Test set"
      ]
    },
    {
      "cell_type": "code",
      "execution_count": 4,
      "metadata": {
        "id": "uezqq37hfRtg"
      },
      "outputs": [],
      "source": [
        "test_datagen = ImageDataGenerator(rescale = 1./255)"
      ]
    },
    {
      "cell_type": "markdown",
      "metadata": {
        "id": "HA7k0shIfRth"
      },
      "source": [
        "### Creating the Training set"
      ]
    },
    {
      "cell_type": "code",
      "source": [
        "from google.colab import drive\n",
        "drive.mount('/content/drive')"
      ],
      "metadata": {
        "colab": {
          "base_uri": "https://localhost:8080/"
        },
        "id": "JUCdaPtTfZTt",
        "outputId": "34b7eed2-4ae4-4e25-e37f-bab5eb8eb71d"
      },
      "execution_count": 5,
      "outputs": [
        {
          "output_type": "stream",
          "name": "stdout",
          "text": [
            "Mounted at /content/drive\n"
          ]
        }
      ]
    },
    {
      "cell_type": "code",
      "execution_count": 7,
      "metadata": {
        "colab": {
          "base_uri": "https://localhost:8080/"
        },
        "id": "32sUs2sefRth",
        "outputId": "7b65eedf-477d-4c93-b8c7-de5fd2d295cd"
      },
      "outputs": [
        {
          "output_type": "stream",
          "name": "stdout",
          "text": [
            "Found 11808 images belonging to 27 classes.\n"
          ]
        }
      ],
      "source": [
        "training_set = train_datagen.flow_from_directory('./drive/MyDrive/dataSet/trainingData',                                \n",
        "                                                 target_size = (128, 128),\n",
        "                                                 batch_size = 10,\n",
        "                                                 color_mode = 'grayscale',                                \n",
        "                                                 class_mode = 'categorical')"
      ]
    },
    {
      "cell_type": "code",
      "execution_count": 8,
      "metadata": {
        "colab": {
          "base_uri": "https://localhost:8080/"
        },
        "id": "PzNpPRgIfRti",
        "outputId": "23a8c1ca-818b-4606-c7bc-c0b8ca279254"
      },
      "outputs": [
        {
          "output_type": "stream",
          "name": "stdout",
          "text": [
            "Found 3560 images belonging to 27 classes.\n"
          ]
        }
      ],
      "source": [
        "test_set = test_datagen.flow_from_directory('./drive/MyDrive/dataSet/testingData',\n",
        "                                            target_size = (128, 128),                                  \n",
        "                                            batch_size = 10,        \n",
        "                                            color_mode = 'grayscale',\n",
        "                                            class_mode = 'categorical')"
      ]
    },
    {
      "cell_type": "markdown",
      "metadata": {
        "id": "sIafDyhqfRti"
      },
      "source": [
        "### Part 2 - Building the CNN"
      ]
    },
    {
      "cell_type": "markdown",
      "metadata": {
        "id": "IKcEiZdtfRtj"
      },
      "source": [
        "#### Initializing the CNN"
      ]
    },
    {
      "cell_type": "code",
      "execution_count": 9,
      "metadata": {
        "id": "OGK-14ExfRtj"
      },
      "outputs": [],
      "source": [
        "classifier = tf.keras.models.Sequential()"
      ]
    },
    {
      "cell_type": "markdown",
      "metadata": {
        "id": "2eryeU2pfRtj"
      },
      "source": [
        "#### Step 1 - Convolution"
      ]
    },
    {
      "cell_type": "code",
      "execution_count": 10,
      "metadata": {
        "id": "9MCtJ5nGfRtk"
      },
      "outputs": [],
      "source": [
        "classifier.add(tf.keras.layers.Conv2D(filters=32,\n",
        "                                     kernel_size=3, \n",
        "                                     padding=\"same\", \n",
        "                                     activation=\"relu\", \n",
        "                                     input_shape=[128, 128, 1]))"
      ]
    },
    {
      "cell_type": "markdown",
      "metadata": {
        "id": "RoT0F_KmfRtk"
      },
      "source": [
        "#### Step 2 - Pooling"
      ]
    },
    {
      "cell_type": "code",
      "execution_count": 11,
      "metadata": {
        "id": "CHA9sHhpfRtk"
      },
      "outputs": [],
      "source": [
        "classifier.add(tf.keras.layers.MaxPool2D(pool_size=2, \n",
        "                                         strides=2, \n",
        "                                         padding='valid'))"
      ]
    },
    {
      "cell_type": "markdown",
      "metadata": {
        "id": "V10Ar4-ZfRtk"
      },
      "source": [
        "#### Adding a second convolutional layer"
      ]
    },
    {
      "cell_type": "code",
      "execution_count": 12,
      "metadata": {
        "id": "NHJuuY6-fRtl"
      },
      "outputs": [],
      "source": [
        "classifier.add(tf.keras.layers.Conv2D(filters=32, \n",
        "                                      kernel_size=3, \n",
        "                                      padding=\"same\", \n",
        "                                      activation=\"relu\"))\n",
        "\n",
        "classifier.add(tf.keras.layers.MaxPool2D(pool_size=2, \n",
        "                                         strides=2, \n",
        "                                         padding='valid'))"
      ]
    },
    {
      "cell_type": "markdown",
      "metadata": {
        "id": "RVc8MYPLfRtl"
      },
      "source": [
        "#### Step 3 - Flattening"
      ]
    },
    {
      "cell_type": "code",
      "execution_count": 13,
      "metadata": {
        "id": "kxiQLUnCfRtl"
      },
      "outputs": [],
      "source": [
        "classifier.add(tf.keras.layers.Flatten())"
      ]
    },
    {
      "cell_type": "markdown",
      "metadata": {
        "id": "8TXQ1V9-fRtl"
      },
      "source": [
        "#### Step 4 - Full Connection"
      ]
    },
    {
      "cell_type": "code",
      "execution_count": 14,
      "metadata": {
        "id": "xWZdgewnfRtl"
      },
      "outputs": [],
      "source": [
        "classifier.add(tf.keras.layers.Dense(units=128, \n",
        "                                     activation='relu'))\n",
        "classifier.add(tf.keras.layers.Dropout(0.40))\n",
        "classifier.add(tf.keras.layers.Dense(units=96, activation='relu'))\n",
        "classifier.add(tf.keras.layers.Dropout(0.40))\n",
        "classifier.add(tf.keras.layers.Dense(units=64, activation='relu'))\n",
        "classifier.add(tf.keras.layers.Dense(units=27, activation='softmax')) # softmax for more than 2"
      ]
    },
    {
      "cell_type": "markdown",
      "metadata": {
        "id": "FINSmfQ2fRtm"
      },
      "source": [
        "### Part 3 - Training the CNN"
      ]
    },
    {
      "cell_type": "markdown",
      "metadata": {
        "id": "5R4D0kO5fRtm"
      },
      "source": [
        "#### Compiling the CNN"
      ]
    },
    {
      "cell_type": "code",
      "execution_count": 15,
      "metadata": {
        "id": "xKkiGTobfRtm"
      },
      "outputs": [],
      "source": [
        "classifier.compile(optimizer = 'adam', \n",
        "                   loss = 'categorical_crossentropy', \n",
        "                   metrics = ['accuracy'])"
      ]
    },
    {
      "cell_type": "markdown",
      "metadata": {
        "id": "VC5i8RrnfRtm"
      },
      "source": [
        "#### Training the CNN on the Training set and evaluating it on the Test set"
      ]
    },
    {
      "cell_type": "code",
      "execution_count": 16,
      "metadata": {
        "colab": {
          "base_uri": "https://localhost:8080/"
        },
        "id": "KgRfCVMQfRtm",
        "outputId": "7d22eb2a-094a-40d9-fb32-f4d986e9d1f1"
      },
      "outputs": [
        {
          "output_type": "stream",
          "name": "stdout",
          "text": [
            "Model: \"sequential\"\n",
            "_________________________________________________________________\n",
            " Layer (type)                Output Shape              Param #   \n",
            "=================================================================\n",
            " conv2d (Conv2D)             (None, 128, 128, 32)      320       \n",
            "                                                                 \n",
            " max_pooling2d (MaxPooling2D  (None, 64, 64, 32)       0         \n",
            " )                                                               \n",
            "                                                                 \n",
            " conv2d_1 (Conv2D)           (None, 64, 64, 32)        9248      \n",
            "                                                                 \n",
            " max_pooling2d_1 (MaxPooling  (None, 32, 32, 32)       0         \n",
            " 2D)                                                             \n",
            "                                                                 \n",
            " flatten (Flatten)           (None, 32768)             0         \n",
            "                                                                 \n",
            " dense (Dense)               (None, 128)               4194432   \n",
            "                                                                 \n",
            " dropout (Dropout)           (None, 128)               0         \n",
            "                                                                 \n",
            " dense_1 (Dense)             (None, 96)                12384     \n",
            "                                                                 \n",
            " dropout_1 (Dropout)         (None, 96)                0         \n",
            "                                                                 \n",
            " dense_2 (Dense)             (None, 64)                6208      \n",
            "                                                                 \n",
            " dense_3 (Dense)             (None, 27)                1755      \n",
            "                                                                 \n",
            "=================================================================\n",
            "Total params: 4,224,347\n",
            "Trainable params: 4,224,347\n",
            "Non-trainable params: 0\n",
            "_________________________________________________________________\n"
          ]
        }
      ],
      "source": [
        "classifier.summary()"
      ]
    },
    {
      "cell_type": "code",
      "execution_count": 18,
      "metadata": {
        "colab": {
          "base_uri": "https://localhost:8080/"
        },
        "id": "noIWtOkqfRtn",
        "outputId": "c5f16bab-57d6-4e15-a9f7-61660291e70d"
      },
      "outputs": [
        {
          "output_type": "stream",
          "name": "stdout",
          "text": [
            "Epoch 1/10\n",
            "1181/1181 [==============================] - 9948s 8s/step - loss: 2.6633 - accuracy: 0.1732 - val_loss: 1.6731 - val_accuracy: 0.4329\n",
            "Epoch 2/10\n",
            "1181/1181 [==============================] - 379s 321ms/step - loss: 1.8188 - accuracy: 0.3704 - val_loss: 1.3108 - val_accuracy: 0.5486\n",
            "Epoch 3/10\n",
            "1181/1181 [==============================] - 380s 321ms/step - loss: 1.5082 - accuracy: 0.4710 - val_loss: 1.1119 - val_accuracy: 0.6191\n",
            "Epoch 4/10\n",
            "1181/1181 [==============================] - 373s 316ms/step - loss: 1.3183 - accuracy: 0.5365 - val_loss: 1.0416 - val_accuracy: 0.6649\n",
            "Epoch 5/10\n",
            "1181/1181 [==============================] - 372s 315ms/step - loss: 1.1820 - accuracy: 0.5802 - val_loss: 0.9236 - val_accuracy: 0.7180\n",
            "Epoch 6/10\n",
            "1181/1181 [==============================] - 372s 315ms/step - loss: 1.0792 - accuracy: 0.6203 - val_loss: 0.9239 - val_accuracy: 0.7034\n",
            "Epoch 7/10\n",
            "1181/1181 [==============================] - 388s 329ms/step - loss: 1.0229 - accuracy: 0.6423 - val_loss: 0.8466 - val_accuracy: 0.7354\n",
            "Epoch 8/10\n",
            "1181/1181 [==============================] - 389s 329ms/step - loss: 0.9392 - accuracy: 0.6668 - val_loss: 0.8285 - val_accuracy: 0.7449\n",
            "Epoch 9/10\n",
            "1181/1181 [==============================] - 372s 315ms/step - loss: 0.9153 - accuracy: 0.6827 - val_loss: 0.7871 - val_accuracy: 0.7534\n",
            "Epoch 10/10\n",
            "1181/1181 [==============================] - 385s 326ms/step - loss: 0.8604 - accuracy: 0.7013 - val_loss: 0.8165 - val_accuracy: 0.7612\n"
          ]
        },
        {
          "output_type": "execute_result",
          "data": {
            "text/plain": [
              "<keras.callbacks.History at 0x7fb8b7a08ee0>"
            ]
          },
          "metadata": {},
          "execution_count": 18
        }
      ],
      "source": [
        "classifier.fit(training_set,\n",
        "                  epochs = 10,\n",
        "                  validation_data = test_set)"
      ]
    },
    {
      "cell_type": "markdown",
      "metadata": {
        "id": "Fw5K9DCEfRtn"
      },
      "source": [
        "#### Saving the Model"
      ]
    },
    {
      "cell_type": "code",
      "execution_count": 19,
      "metadata": {
        "colab": {
          "base_uri": "https://localhost:8080/"
        },
        "id": "86jx3iBnfRtn",
        "outputId": "8db63b95-fea4-476a-cadb-f697761e1b64"
      },
      "outputs": [
        {
          "output_type": "stream",
          "name": "stdout",
          "text": [
            "Model Saved\n",
            "Weights saved\n"
          ]
        }
      ],
      "source": [
        "model_json = classifier.to_json()\n",
        "with open(\"model_new_4.json\", \"w\") as json_file:\n",
        "    json_file.write(model_json)\n",
        "print('Model Saved')\n",
        "classifier.save_weights('model_new_4.h5')\n",
        "print('Weights saved')"
      ]
    },
    {
      "cell_type": "code",
      "execution_count": null,
      "metadata": {
        "id": "RIoo0bX1fRtn"
      },
      "outputs": [],
      "source": []
    }
  ],
  "metadata": {
    "kernelspec": {
      "display_name": "Python 3",
      "language": "python",
      "name": "python3"
    },
    "language_info": {
      "codemirror_mode": {
        "name": "ipython",
        "version": 3
      },
      "file_extension": ".py",
      "mimetype": "text/x-python",
      "name": "python",
      "nbconvert_exporter": "python",
      "pygments_lexer": "ipython3",
      "version": "3.8.6rc1"
    },
    "colab": {
      "provenance": []
    }
  },
  "nbformat": 4,
  "nbformat_minor": 0
}